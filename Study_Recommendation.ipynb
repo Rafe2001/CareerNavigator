{
  "metadata": {
    "kernelspec": {
      "language": "python",
      "display_name": "Python 3",
      "name": "python3"
    },
    "language_info": {
      "name": "python",
      "version": "3.10.13",
      "mimetype": "text/x-python",
      "codemirror_mode": {
        "name": "ipython",
        "version": 3
      },
      "pygments_lexer": "ipython3",
      "nbconvert_exporter": "python",
      "file_extension": ".py"
    },
    "kaggle": {
      "accelerator": "none",
      "dataSources": [
        {
          "sourceId": 8006400,
          "sourceType": "datasetVersion",
          "datasetId": 4715442
        }
      ],
      "dockerImageVersionId": 30684,
      "isInternetEnabled": true,
      "language": "python",
      "sourceType": "notebook",
      "isGpuEnabled": false
    },
    "colab": {
      "name": "85.15% Accuracy catboost | Study Recommendation",
      "provenance": [],
      "include_colab_link": true
    }
  },
  "nbformat_minor": 0,
  "nbformat": 4,
  "cells": [
    {
      "cell_type": "markdown",
      "metadata": {
        "id": "view-in-github",
        "colab_type": "text"
      },
      "source": [
        "<a href=\"https://colab.research.google.com/github/Rafe2001/CareerNavigator/blob/main/Study_Recommendation.ipynb\" target=\"_parent\"><img src=\"https://colab.research.google.com/assets/colab-badge.svg\" alt=\"Open In Colab\"/></a>"
      ]
    },
    {
      "source": [
        "\n",
        "# IMPORTANT: RUN THIS CELL IN ORDER TO IMPORT YOUR KAGGLE DATA SOURCES\n",
        "# TO THE CORRECT LOCATION (/kaggle/input) IN YOUR NOTEBOOK,\n",
        "# THEN FEEL FREE TO DELETE THIS CELL.\n",
        "# NOTE: THIS NOTEBOOK ENVIRONMENT DIFFERS FROM KAGGLE'S PYTHON\n",
        "# ENVIRONMENT SO THERE MAY BE MISSING LIBRARIES USED BY YOUR\n",
        "# NOTEBOOK.\n",
        "\n",
        "import os\n",
        "import sys\n",
        "from tempfile import NamedTemporaryFile\n",
        "from urllib.request import urlopen\n",
        "from urllib.parse import unquote, urlparse\n",
        "from urllib.error import HTTPError\n",
        "from zipfile import ZipFile\n",
        "import tarfile\n",
        "import shutil\n",
        "\n",
        "CHUNK_SIZE = 40960\n",
        "DATA_SOURCE_MAPPING = 'student-studeis-recommendation:https%3A%2F%2Fstorage.googleapis.com%2Fkaggle-data-sets%2F4715442%2F8006400%2Fbundle%2Farchive.zip%3FX-Goog-Algorithm%3DGOOG4-RSA-SHA256%26X-Goog-Credential%3Dgcp-kaggle-com%2540kaggle-161607.iam.gserviceaccount.com%252F20240415%252Fauto%252Fstorage%252Fgoog4_request%26X-Goog-Date%3D20240415T061457Z%26X-Goog-Expires%3D259200%26X-Goog-SignedHeaders%3Dhost%26X-Goog-Signature%3D47ed98b4e050f8de648f26f301d0011fb7d11fa83183438c43ede76c8ce3f1b747a6c176b573a3490adebcff9825a9104704a0d8dcc6fe6a174158b35762198e16af031bd6447bfc4c1da18650413bb37f1c04d232c1e90cb8d3fdca8d00a249987403dc9f64c310c4215e71d5299033bfceb6911426a10cbf4d3403f94393f86fac628d65d2b81dafb3de142dee4f8b4079a4d57f68488341ea0e4ba6dad88213de1c007242beb61ff9b310b355393f5bfe280cfb01eea108c0bb30e017f80f8264a63d3cf79b5e52d74980dd3d7712212155a88ae891154eb6647bcbbd724a9e36793cd08abee36e0dabd4dd1bca0d82ecdabac88c24d529c05e7b77ea3a20'\n",
        "\n",
        "KAGGLE_INPUT_PATH='/kaggle/input'\n",
        "KAGGLE_WORKING_PATH='/kaggle/working'\n",
        "KAGGLE_SYMLINK='kaggle'\n",
        "\n",
        "!umount /kaggle/input/ 2> /dev/null\n",
        "shutil.rmtree('/kaggle/input', ignore_errors=True)\n",
        "os.makedirs(KAGGLE_INPUT_PATH, 0o777, exist_ok=True)\n",
        "os.makedirs(KAGGLE_WORKING_PATH, 0o777, exist_ok=True)\n",
        "\n",
        "try:\n",
        "  os.symlink(KAGGLE_INPUT_PATH, os.path.join(\"..\", 'input'), target_is_directory=True)\n",
        "except FileExistsError:\n",
        "  pass\n",
        "try:\n",
        "  os.symlink(KAGGLE_WORKING_PATH, os.path.join(\"..\", 'working'), target_is_directory=True)\n",
        "except FileExistsError:\n",
        "  pass\n",
        "\n",
        "for data_source_mapping in DATA_SOURCE_MAPPING.split(','):\n",
        "    directory, download_url_encoded = data_source_mapping.split(':')\n",
        "    download_url = unquote(download_url_encoded)\n",
        "    filename = urlparse(download_url).path\n",
        "    destination_path = os.path.join(KAGGLE_INPUT_PATH, directory)\n",
        "    try:\n",
        "        with urlopen(download_url) as fileres, NamedTemporaryFile() as tfile:\n",
        "            total_length = fileres.headers['content-length']\n",
        "            print(f'Downloading {directory}, {total_length} bytes compressed')\n",
        "            dl = 0\n",
        "            data = fileres.read(CHUNK_SIZE)\n",
        "            while len(data) > 0:\n",
        "                dl += len(data)\n",
        "                tfile.write(data)\n",
        "                done = int(50 * dl / int(total_length))\n",
        "                sys.stdout.write(f\"\\r[{'=' * done}{' ' * (50-done)}] {dl} bytes downloaded\")\n",
        "                sys.stdout.flush()\n",
        "                data = fileres.read(CHUNK_SIZE)\n",
        "            if filename.endswith('.zip'):\n",
        "              with ZipFile(tfile) as zfile:\n",
        "                zfile.extractall(destination_path)\n",
        "            else:\n",
        "              with tarfile.open(tfile.name) as tarfile:\n",
        "                tarfile.extractall(destination_path)\n",
        "            print(f'\\nDownloaded and uncompressed: {directory}')\n",
        "    except HTTPError as e:\n",
        "        print(f'Failed to load (likely expired) {download_url} to path {destination_path}')\n",
        "        continue\n",
        "    except OSError as e:\n",
        "        print(f'Failed to load {download_url} to path {destination_path}')\n",
        "        continue\n",
        "\n",
        "print('Data source import complete.')\n"
      ],
      "metadata": {
        "id": "lu4R9CeTZPvi"
      },
      "cell_type": "code",
      "outputs": [],
      "execution_count": null
    },
    {
      "cell_type": "code",
      "source": [
        "# This Python 3 environment comes with many helpful analytics libraries installed\n",
        "# It is defined by the kaggle/python Docker image: https://github.com/kaggle/docker-python\n",
        "# For example, here's several helpful packages to load\n",
        "\n",
        "import numpy as np # linear algebra\n",
        "import pandas as pd # data processing, CSV file I/O (e.g. pd.read_csv)\n",
        "\n",
        "# Input data files are available in the read-only \"../input/\" directory\n",
        "# For example, running this (by clicking run or pressing Shift+Enter) will list all files under the input directory\n",
        "\n",
        "import os\n",
        "for dirname, _, filenames in os.walk('/kaggle/input'):\n",
        "    for filename in filenames:\n",
        "        print(os.path.join(dirname, filename))\n",
        "\n",
        "# You can write up to 20GB to the current directory (/kaggle/working/) that gets preserved as output when you create a version using \"Save & Run All\"\n",
        "# You can also write temporary files to /kaggle/temp/, but they won't be saved outside of the current session"
      ],
      "metadata": {
        "_uuid": "8f2839f25d086af736a60e9eeb907d3b93b6e0e5",
        "_cell_guid": "b1076dfc-b9ad-4769-8c92-a6c4dae69d19",
        "execution": {
          "iopub.status.busy": "2024-04-14T15:06:49.441738Z",
          "iopub.execute_input": "2024-04-14T15:06:49.442143Z",
          "iopub.status.idle": "2024-04-14T15:06:50.903882Z",
          "shell.execute_reply.started": "2024-04-14T15:06:49.442112Z",
          "shell.execute_reply": "2024-04-14T15:06:50.902872Z"
        },
        "trusted": true,
        "id": "UFSoZ8DcZPvy"
      },
      "execution_count": null,
      "outputs": []
    },
    {
      "cell_type": "code",
      "source": [
        "import numpy as np\n",
        "import pandas as pd\n",
        "import matplotlib.pyplot as plt\n",
        "import seaborn as sns\n",
        "import warnings\n",
        "warnings.filterwarnings(\"ignore\")\n",
        "from sklearn.ensemble import RandomForestClassifier, AdaBoostClassifier\n",
        "from sklearn.preprocessing import LabelEncoder, StandardScaler, MinMaxScaler\n",
        "from sklearn.model_selection import train_test_split, RandomizedSearchCV\n",
        "from sklearn.svm import SVC\n",
        "from sklearn.neighbors import KNeighborsClassifier\n",
        "from sklearn.naive_bayes import GaussianNB\n",
        "from xgboost import XGBClassifier\n",
        "from catboost import CatBoostClassifier\n",
        "from lightgbm import LGBMClassifier\n",
        "from sklearn.metrics import accuracy_score, classification_report, confusion_matrix"
      ],
      "metadata": {
        "execution": {
          "iopub.status.busy": "2024-04-14T15:06:50.905965Z",
          "iopub.execute_input": "2024-04-14T15:06:50.90667Z",
          "iopub.status.idle": "2024-04-14T15:06:55.644894Z",
          "shell.execute_reply.started": "2024-04-14T15:06:50.906623Z",
          "shell.execute_reply": "2024-04-14T15:06:55.642975Z"
        },
        "trusted": true,
        "id": "R8knU6ejZPv0"
      },
      "execution_count": null,
      "outputs": []
    },
    {
      "cell_type": "markdown",
      "source": [
        "# Data Wrangling"
      ],
      "metadata": {
        "id": "RUYAPL9zZPv1"
      }
    },
    {
      "cell_type": "code",
      "source": [
        "train_df = pd.read_csv(\"/kaggle/input/student-studeis-recommendation/student-scores.csv\")\n",
        "train_df.head(10)"
      ],
      "metadata": {
        "execution": {
          "iopub.status.busy": "2024-04-14T15:06:55.647158Z",
          "iopub.execute_input": "2024-04-14T15:06:55.648012Z",
          "iopub.status.idle": "2024-04-14T15:06:55.706469Z",
          "shell.execute_reply.started": "2024-04-14T15:06:55.647951Z",
          "shell.execute_reply": "2024-04-14T15:06:55.705365Z"
        },
        "trusted": true,
        "id": "SCJUqVp6ZPv4"
      },
      "execution_count": null,
      "outputs": []
    },
    {
      "cell_type": "code",
      "source": [
        "train_df.shape"
      ],
      "metadata": {
        "execution": {
          "iopub.status.busy": "2024-04-14T15:06:55.709277Z",
          "iopub.execute_input": "2024-04-14T15:06:55.709645Z",
          "iopub.status.idle": "2024-04-14T15:06:55.716645Z",
          "shell.execute_reply.started": "2024-04-14T15:06:55.709615Z",
          "shell.execute_reply": "2024-04-14T15:06:55.715043Z"
        },
        "trusted": true,
        "id": "41P8gadeZPv6"
      },
      "execution_count": null,
      "outputs": []
    },
    {
      "cell_type": "code",
      "source": [
        "train_df.info()"
      ],
      "metadata": {
        "execution": {
          "iopub.status.busy": "2024-04-14T15:06:55.718344Z",
          "iopub.execute_input": "2024-04-14T15:06:55.71875Z",
          "iopub.status.idle": "2024-04-14T15:06:55.768674Z",
          "shell.execute_reply.started": "2024-04-14T15:06:55.71872Z",
          "shell.execute_reply": "2024-04-14T15:06:55.767479Z"
        },
        "trusted": true,
        "id": "C-O59KA4ZPv7"
      },
      "execution_count": null,
      "outputs": []
    },
    {
      "cell_type": "code",
      "source": [
        "train_df.isna().sum()"
      ],
      "metadata": {
        "execution": {
          "iopub.status.busy": "2024-04-14T15:06:55.770296Z",
          "iopub.execute_input": "2024-04-14T15:06:55.770758Z",
          "iopub.status.idle": "2024-04-14T15:06:55.783342Z",
          "shell.execute_reply.started": "2024-04-14T15:06:55.770717Z",
          "shell.execute_reply": "2024-04-14T15:06:55.781832Z"
        },
        "trusted": true,
        "id": "yoNrB1MeZPv8"
      },
      "execution_count": null,
      "outputs": []
    },
    {
      "cell_type": "code",
      "source": [
        "train_df.duplicated().sum()"
      ],
      "metadata": {
        "execution": {
          "iopub.status.busy": "2024-04-14T15:06:55.785137Z",
          "iopub.execute_input": "2024-04-14T15:06:55.785692Z",
          "iopub.status.idle": "2024-04-14T15:06:55.797381Z",
          "shell.execute_reply.started": "2024-04-14T15:06:55.785616Z",
          "shell.execute_reply": "2024-04-14T15:06:55.796483Z"
        },
        "trusted": true,
        "id": "GkYBSqWYZPv-"
      },
      "execution_count": null,
      "outputs": []
    },
    {
      "cell_type": "code",
      "source": [
        "cat_cols = train_df.select_dtypes(include='object').columns\n",
        "cat_cols"
      ],
      "metadata": {
        "execution": {
          "iopub.status.busy": "2024-04-14T15:06:55.798341Z",
          "iopub.execute_input": "2024-04-14T15:06:55.798666Z",
          "iopub.status.idle": "2024-04-14T15:06:55.809095Z",
          "shell.execute_reply.started": "2024-04-14T15:06:55.79864Z",
          "shell.execute_reply": "2024-04-14T15:06:55.807941Z"
        },
        "trusted": true,
        "id": "naqVjvutZPwB"
      },
      "execution_count": null,
      "outputs": []
    },
    {
      "cell_type": "code",
      "source": [
        "train_df.drop(columns = ['id','first_name', 'last_name', 'email'], axis = 1, inplace=True)"
      ],
      "metadata": {
        "execution": {
          "iopub.status.busy": "2024-04-14T15:06:55.810682Z",
          "iopub.execute_input": "2024-04-14T15:06:55.811767Z",
          "iopub.status.idle": "2024-04-14T15:06:55.82361Z",
          "shell.execute_reply.started": "2024-04-14T15:06:55.811731Z",
          "shell.execute_reply": "2024-04-14T15:06:55.822498Z"
        },
        "trusted": true,
        "id": "R1jgG7Q6ZPwD"
      },
      "execution_count": null,
      "outputs": []
    },
    {
      "cell_type": "code",
      "source": [
        "train_df['total_score'] = train_df['math_score'] + train_df['history_score'] + train_df['physics_score'] + train_df['chemistry_score'] + train_df['biology_score'] + train_df['english_score'] + train_df['geography_score']\n",
        "train_df['average_score'] = train_df['total_score'] / 7\n",
        "train_df.head()"
      ],
      "metadata": {
        "execution": {
          "iopub.status.busy": "2024-04-14T15:06:55.82863Z",
          "iopub.execute_input": "2024-04-14T15:06:55.829514Z",
          "iopub.status.idle": "2024-04-14T15:06:55.85669Z",
          "shell.execute_reply.started": "2024-04-14T15:06:55.829473Z",
          "shell.execute_reply": "2024-04-14T15:06:55.855535Z"
        },
        "trusted": true,
        "id": "RqQ7aJPpZPwE"
      },
      "execution_count": null,
      "outputs": []
    },
    {
      "cell_type": "code",
      "source": [
        "train_df['career_aspiration'].value_counts()"
      ],
      "metadata": {
        "execution": {
          "iopub.status.busy": "2024-04-14T15:06:55.861282Z",
          "iopub.execute_input": "2024-04-14T15:06:55.86168Z",
          "iopub.status.idle": "2024-04-14T15:06:55.878274Z",
          "shell.execute_reply.started": "2024-04-14T15:06:55.86165Z",
          "shell.execute_reply": "2024-04-14T15:06:55.877123Z"
        },
        "trusted": true,
        "id": "qH1Su68lZPwE"
      },
      "execution_count": null,
      "outputs": []
    },
    {
      "cell_type": "code",
      "source": [
        "len(train_df['career_aspiration'].unique())"
      ],
      "metadata": {
        "execution": {
          "iopub.status.busy": "2024-04-14T15:06:55.879975Z",
          "iopub.execute_input": "2024-04-14T15:06:55.882367Z",
          "iopub.status.idle": "2024-04-14T15:06:55.890135Z",
          "shell.execute_reply.started": "2024-04-14T15:06:55.882314Z",
          "shell.execute_reply": "2024-04-14T15:06:55.888788Z"
        },
        "trusted": true,
        "id": "vqArMtOBZPwF"
      },
      "execution_count": null,
      "outputs": []
    },
    {
      "cell_type": "code",
      "source": [
        "cols = ['gender','part_time_job','extracurricular_activities', 'career_aspiration']\n",
        "\n",
        "for col in cols:\n",
        "    train_df[col] = LabelEncoder().fit_transform(train_df[col])"
      ],
      "metadata": {
        "execution": {
          "iopub.status.busy": "2024-04-14T15:06:55.891416Z",
          "iopub.execute_input": "2024-04-14T15:06:55.892111Z",
          "iopub.status.idle": "2024-04-14T15:06:55.906042Z",
          "shell.execute_reply.started": "2024-04-14T15:06:55.892069Z",
          "shell.execute_reply": "2024-04-14T15:06:55.905004Z"
        },
        "trusted": true,
        "id": "rPwLokNPZPwF"
      },
      "execution_count": null,
      "outputs": []
    },
    {
      "cell_type": "code",
      "source": [
        "train_df['career_aspiration'].value_counts()"
      ],
      "metadata": {
        "execution": {
          "iopub.status.busy": "2024-04-14T15:06:55.907221Z",
          "iopub.execute_input": "2024-04-14T15:06:55.907965Z",
          "iopub.status.idle": "2024-04-14T15:06:55.925025Z",
          "shell.execute_reply.started": "2024-04-14T15:06:55.907932Z",
          "shell.execute_reply": "2024-04-14T15:06:55.923576Z"
        },
        "trusted": true,
        "id": "Bm8nVVXKZPwG"
      },
      "execution_count": null,
      "outputs": []
    },
    {
      "cell_type": "code",
      "source": [
        "train_df.head(10)"
      ],
      "metadata": {
        "execution": {
          "iopub.status.busy": "2024-04-14T15:06:55.926711Z",
          "iopub.execute_input": "2024-04-14T15:06:55.927184Z",
          "iopub.status.idle": "2024-04-14T15:06:55.955374Z",
          "shell.execute_reply.started": "2024-04-14T15:06:55.927128Z",
          "shell.execute_reply": "2024-04-14T15:06:55.954423Z"
        },
        "trusted": true,
        "id": "4czvxGlfZPwH"
      },
      "execution_count": null,
      "outputs": []
    },
    {
      "cell_type": "code",
      "source": [
        "train_df.columns"
      ],
      "metadata": {
        "execution": {
          "iopub.status.busy": "2024-04-14T15:06:55.956953Z",
          "iopub.execute_input": "2024-04-14T15:06:55.95729Z",
          "iopub.status.idle": "2024-04-14T15:06:55.964954Z",
          "shell.execute_reply.started": "2024-04-14T15:06:55.957264Z",
          "shell.execute_reply": "2024-04-14T15:06:55.96364Z"
        },
        "trusted": true,
        "id": "MDABczymZPwH"
      },
      "execution_count": null,
      "outputs": []
    },
    {
      "cell_type": "code",
      "source": [
        "from imblearn.over_sampling import SMOTE\n",
        "\n",
        "smote = SMOTE(random_state = 42)\n",
        "\n",
        "X = train_df.drop(\"career_aspiration\", axis=1)\n",
        "y = train_df['career_aspiration']\n",
        "\n",
        "X_resampled ,  y_resampled = smote.fit_resample(X,y)"
      ],
      "metadata": {
        "execution": {
          "iopub.status.busy": "2024-04-14T15:06:55.966513Z",
          "iopub.execute_input": "2024-04-14T15:06:55.967306Z",
          "iopub.status.idle": "2024-04-14T15:06:56.240425Z",
          "shell.execute_reply.started": "2024-04-14T15:06:55.967265Z",
          "shell.execute_reply": "2024-04-14T15:06:56.23917Z"
        },
        "trusted": true,
        "id": "Aa7fG0mGZPwI"
      },
      "execution_count": null,
      "outputs": []
    },
    {
      "cell_type": "code",
      "source": [
        "X_resampled.shape"
      ],
      "metadata": {
        "execution": {
          "iopub.status.busy": "2024-04-14T15:06:56.241877Z",
          "iopub.execute_input": "2024-04-14T15:06:56.243175Z",
          "iopub.status.idle": "2024-04-14T15:06:56.250241Z",
          "shell.execute_reply.started": "2024-04-14T15:06:56.243138Z",
          "shell.execute_reply": "2024-04-14T15:06:56.24901Z"
        },
        "trusted": true,
        "id": "OljJ9RpOZPwI"
      },
      "execution_count": null,
      "outputs": []
    },
    {
      "cell_type": "code",
      "source": [
        "y_resampled.shape"
      ],
      "metadata": {
        "execution": {
          "iopub.status.busy": "2024-04-14T15:06:56.251691Z",
          "iopub.execute_input": "2024-04-14T15:06:56.25203Z",
          "iopub.status.idle": "2024-04-14T15:06:56.26245Z",
          "shell.execute_reply.started": "2024-04-14T15:06:56.252004Z",
          "shell.execute_reply": "2024-04-14T15:06:56.261653Z"
        },
        "trusted": true,
        "id": "Ri8F5yjKZPwJ"
      },
      "execution_count": null,
      "outputs": []
    },
    {
      "cell_type": "markdown",
      "source": [
        "# Training and Evaluating the Model"
      ],
      "metadata": {
        "id": "L14oX30jZPwJ"
      }
    },
    {
      "cell_type": "code",
      "source": [
        "X_train, X_test, y_train, y_test = train_test_split(X_resampled, y_resampled, test_size= 0.2, random_state=32)"
      ],
      "metadata": {
        "execution": {
          "iopub.status.busy": "2024-04-14T15:06:56.263909Z",
          "iopub.execute_input": "2024-04-14T15:06:56.264246Z",
          "iopub.status.idle": "2024-04-14T15:06:56.278263Z",
          "shell.execute_reply.started": "2024-04-14T15:06:56.264217Z",
          "shell.execute_reply": "2024-04-14T15:06:56.276903Z"
        },
        "trusted": true,
        "id": "EvPWb248ZPwK"
      },
      "execution_count": null,
      "outputs": []
    },
    {
      "cell_type": "code",
      "source": [
        "X_train.shape, X_test.shape"
      ],
      "metadata": {
        "execution": {
          "iopub.status.busy": "2024-04-14T15:06:56.279632Z",
          "iopub.execute_input": "2024-04-14T15:06:56.279979Z",
          "iopub.status.idle": "2024-04-14T15:06:56.28788Z",
          "shell.execute_reply.started": "2024-04-14T15:06:56.279951Z",
          "shell.execute_reply": "2024-04-14T15:06:56.286671Z"
        },
        "trusted": true,
        "id": "5ajcr5eIZPwK"
      },
      "execution_count": null,
      "outputs": []
    },
    {
      "cell_type": "code",
      "source": [
        "scaler = StandardScaler()\n",
        "\n",
        "X_train_scaled = scaler.fit_transform(X_train)\n",
        "X_test_scaled = scaler.transform(X_test)"
      ],
      "metadata": {
        "execution": {
          "iopub.status.busy": "2024-04-14T15:06:56.289124Z",
          "iopub.execute_input": "2024-04-14T15:06:56.289428Z",
          "iopub.status.idle": "2024-04-14T15:06:56.307341Z",
          "shell.execute_reply.started": "2024-04-14T15:06:56.289403Z",
          "shell.execute_reply": "2024-04-14T15:06:56.306274Z"
        },
        "trusted": true,
        "id": "O3Z-2tlPZPwK"
      },
      "execution_count": null,
      "outputs": []
    },
    {
      "cell_type": "code",
      "source": [
        "def model_train(model,X_train, X_test, y_train, y_test):\n",
        "    model = model.fit(X_train, y_train)\n",
        "    y_pred = model.predict(X_test)\n",
        "    acc = accuracy_score(y_pred, y_test)\n",
        "    return acc, model"
      ],
      "metadata": {
        "execution": {
          "iopub.status.busy": "2024-04-14T15:06:56.308318Z",
          "iopub.execute_input": "2024-04-14T15:06:56.30865Z",
          "iopub.status.idle": "2024-04-14T15:06:56.315499Z",
          "shell.execute_reply.started": "2024-04-14T15:06:56.308624Z",
          "shell.execute_reply": "2024-04-14T15:06:56.31429Z"
        },
        "trusted": true,
        "id": "-2quI2G8ZPwK"
      },
      "execution_count": null,
      "outputs": []
    },
    {
      "cell_type": "code",
      "source": [
        "classifiers = {\n",
        "    'Random Forest': RandomForestClassifier(),\n",
        "    'AdaBoost': AdaBoostClassifier(),\n",
        "    'SVM': SVC(),\n",
        "    'KNN': KNeighborsClassifier(),\n",
        "    'Naive Bayes': GaussianNB(),\n",
        "    'XGBoost': XGBClassifier(),\n",
        "    'CatBoost': CatBoostClassifier(),\n",
        "    'LightGBM': LGBMClassifier()\n",
        "}"
      ],
      "metadata": {
        "execution": {
          "iopub.status.busy": "2024-04-14T15:06:56.316767Z",
          "iopub.execute_input": "2024-04-14T15:06:56.31735Z",
          "iopub.status.idle": "2024-04-14T15:06:56.331423Z",
          "shell.execute_reply.started": "2024-04-14T15:06:56.317322Z",
          "shell.execute_reply": "2024-04-14T15:06:56.330075Z"
        },
        "trusted": true,
        "id": "Kp1C4Uz5ZPwN"
      },
      "execution_count": null,
      "outputs": []
    },
    {
      "cell_type": "code",
      "source": [
        "accuracy_scores = {}\n",
        "for name, classifier in classifiers.items():\n",
        "    acc, _ = model_train(classifier, X_train, X_test, y_train, y_test)\n",
        "    accuracy_scores[name] = acc\n",
        "\n",
        "# Sort dictionary by values (accuracy scores) in descending order\n",
        "sorted_accuracy_scores = {k: v for k, v in sorted(accuracy_scores.items(), key=lambda item: item[1], reverse=True)}\n",
        "\n",
        "# Print sorted accuracy scores\n",
        "for name, acc in sorted_accuracy_scores.items():\n",
        "    print(f\"{name}: {acc}\")"
      ],
      "metadata": {
        "execution": {
          "iopub.status.busy": "2024-04-14T15:06:56.333114Z",
          "iopub.execute_input": "2024-04-14T15:06:56.333469Z",
          "iopub.status.idle": "2024-04-14T15:07:28.538385Z",
          "shell.execute_reply.started": "2024-04-14T15:06:56.333429Z",
          "shell.execute_reply": "2024-04-14T15:07:28.536759Z"
        },
        "trusted": true,
        "id": "wbjSNIuMZPwO"
      },
      "execution_count": null,
      "outputs": []
    },
    {
      "cell_type": "code",
      "source": [
        "best_classifier_name, best_classifier = next(iter(sorted_accuracy_scores.items()))"
      ],
      "metadata": {
        "execution": {
          "iopub.status.busy": "2024-04-14T15:07:28.540184Z",
          "iopub.execute_input": "2024-04-14T15:07:28.542978Z",
          "iopub.status.idle": "2024-04-14T15:07:28.548907Z",
          "shell.execute_reply.started": "2024-04-14T15:07:28.542938Z",
          "shell.execute_reply": "2024-04-14T15:07:28.547616Z"
        },
        "trusted": true,
        "id": "afz94zyXZPwP"
      },
      "execution_count": null,
      "outputs": []
    },
    {
      "cell_type": "code",
      "source": [
        "best_classifier_name"
      ],
      "metadata": {
        "execution": {
          "iopub.status.busy": "2024-04-14T15:07:28.550053Z",
          "iopub.execute_input": "2024-04-14T15:07:28.550416Z",
          "iopub.status.idle": "2024-04-14T15:07:28.565385Z",
          "shell.execute_reply.started": "2024-04-14T15:07:28.550388Z",
          "shell.execute_reply": "2024-04-14T15:07:28.564571Z"
        },
        "trusted": true,
        "id": "j1v--yBPZPwQ"
      },
      "execution_count": null,
      "outputs": []
    },
    {
      "cell_type": "code",
      "source": [
        "if best_classifier_name == 'Random Forest':\n",
        "    # Define hyperparameter grid for RandomizedSearchCV\n",
        "    param_grid = {\n",
        "        'n_estimators': [50, 100, 200],\n",
        "        'max_depth': [3, 5, 7, None],\n",
        "        'min_samples_split': [2, 5, 10],\n",
        "        'min_samples_leaf': [1, 2, 4],\n",
        "        'bootstrap': [True, False]\n",
        "    }\n",
        "\n",
        "    # Initialize RandomForestClassifier\n",
        "    best_classifier = RandomForestClassifier()\n",
        "\n",
        "    # Perform RandomizedSearchCV\n",
        "    random_search = RandomizedSearchCV(estimator=best_classifier, param_distributions=param_grid, n_iter=100, cv=5, verbose=2, random_state=42, n_jobs=-1)\n",
        "    random_search.fit(X_train, y_train)\n",
        "\n",
        "    # Get the best parameters and best score\n",
        "    best_classifier = random_search.best_estimator_"
      ],
      "metadata": {
        "execution": {
          "iopub.status.busy": "2024-04-14T15:07:28.570902Z",
          "iopub.execute_input": "2024-04-14T15:07:28.572012Z",
          "iopub.status.idle": "2024-04-14T15:07:28.581708Z",
          "shell.execute_reply.started": "2024-04-14T15:07:28.571975Z",
          "shell.execute_reply": "2024-04-14T15:07:28.580514Z"
        },
        "trusted": true,
        "id": "90XMfAY2ZPwS"
      },
      "execution_count": null,
      "outputs": []
    },
    {
      "cell_type": "code",
      "source": [
        "best_classifier"
      ],
      "metadata": {
        "execution": {
          "iopub.status.busy": "2024-04-14T15:07:28.583133Z",
          "iopub.execute_input": "2024-04-14T15:07:28.583474Z",
          "iopub.status.idle": "2024-04-14T15:07:28.597905Z",
          "shell.execute_reply.started": "2024-04-14T15:07:28.583446Z",
          "shell.execute_reply": "2024-04-14T15:07:28.596905Z"
        },
        "trusted": true,
        "id": "fVmvL0SOZPwS"
      },
      "execution_count": null,
      "outputs": []
    },
    {
      "cell_type": "code",
      "source": [
        "best_model = CatBoostClassifier()\n",
        "best_model.fit(X_train, y_train)"
      ],
      "metadata": {
        "execution": {
          "iopub.status.busy": "2024-04-14T15:07:28.599546Z",
          "iopub.execute_input": "2024-04-14T15:07:28.599969Z",
          "iopub.status.idle": "2024-04-14T15:07:48.871991Z",
          "shell.execute_reply.started": "2024-04-14T15:07:28.599939Z",
          "shell.execute_reply": "2024-04-14T15:07:48.870833Z"
        },
        "trusted": true,
        "id": "2NDW7aUVZPwT"
      },
      "execution_count": null,
      "outputs": []
    },
    {
      "cell_type": "code",
      "source": [
        "y_pred = best_model.predict(X_test)\n",
        "acc = accuracy_score(y_pred, y_test)\n",
        "print(f\"{acc*100}\")"
      ],
      "metadata": {
        "execution": {
          "iopub.status.busy": "2024-04-14T15:07:48.873275Z",
          "iopub.execute_input": "2024-04-14T15:07:48.873658Z",
          "iopub.status.idle": "2024-04-14T15:07:48.89853Z",
          "shell.execute_reply.started": "2024-04-14T15:07:48.87362Z",
          "shell.execute_reply": "2024-04-14T15:07:48.897338Z"
        },
        "trusted": true,
        "id": "wz8anFJAZPwT"
      },
      "execution_count": null,
      "outputs": []
    },
    {
      "cell_type": "code",
      "source": [
        "print(classification_report(y_pred, y_test))"
      ],
      "metadata": {
        "execution": {
          "iopub.status.busy": "2024-04-14T15:07:48.899655Z",
          "iopub.execute_input": "2024-04-14T15:07:48.899976Z",
          "iopub.status.idle": "2024-04-14T15:07:48.919003Z",
          "shell.execute_reply.started": "2024-04-14T15:07:48.899949Z",
          "shell.execute_reply": "2024-04-14T15:07:48.917823Z"
        },
        "trusted": true,
        "id": "uPkT9pxlZPwU"
      },
      "execution_count": null,
      "outputs": []
    },
    {
      "cell_type": "code",
      "source": [
        "print(\"Predicted_labels:\", best_model.predict(X_test.iloc[[4]]))"
      ],
      "metadata": {
        "execution": {
          "iopub.status.busy": "2024-04-14T15:07:48.920346Z",
          "iopub.execute_input": "2024-04-14T15:07:48.920712Z",
          "iopub.status.idle": "2024-04-14T15:07:48.931502Z",
          "shell.execute_reply.started": "2024-04-14T15:07:48.920683Z",
          "shell.execute_reply": "2024-04-14T15:07:48.930186Z"
        },
        "trusted": true,
        "id": "R--srmE4ZPwU"
      },
      "execution_count": null,
      "outputs": []
    },
    {
      "cell_type": "code",
      "source": [
        "print(\"Actual:\", y_test.iloc[4])"
      ],
      "metadata": {
        "execution": {
          "iopub.status.busy": "2024-04-14T15:07:48.932882Z",
          "iopub.execute_input": "2024-04-14T15:07:48.933384Z",
          "iopub.status.idle": "2024-04-14T15:07:48.94105Z",
          "shell.execute_reply.started": "2024-04-14T15:07:48.933352Z",
          "shell.execute_reply": "2024-04-14T15:07:48.939456Z"
        },
        "trusted": true,
        "id": "zQKZjtOJZPwU"
      },
      "execution_count": null,
      "outputs": []
    },
    {
      "cell_type": "markdown",
      "source": [
        "# Saving model"
      ],
      "metadata": {
        "id": "nvpnVcmFZPwV"
      }
    },
    {
      "cell_type": "code",
      "source": [
        "import pickle\n",
        "\n",
        "pickle.dump(best_model, open('model.pkl','wb'))"
      ],
      "metadata": {
        "execution": {
          "iopub.status.busy": "2024-04-14T15:07:48.943046Z",
          "iopub.execute_input": "2024-04-14T15:07:48.943514Z",
          "iopub.status.idle": "2024-04-14T15:07:48.978452Z",
          "shell.execute_reply.started": "2024-04-14T15:07:48.943474Z",
          "shell.execute_reply": "2024-04-14T15:07:48.977378Z"
        },
        "trusted": true,
        "id": "HHOL-ronZPwV"
      },
      "execution_count": null,
      "outputs": []
    },
    {
      "cell_type": "code",
      "source": [
        "model = pickle.load(open(\"model.pkl\", 'rb'))"
      ],
      "metadata": {
        "execution": {
          "iopub.status.busy": "2024-04-14T15:07:48.979846Z",
          "iopub.execute_input": "2024-04-14T15:07:48.980267Z",
          "iopub.status.idle": "2024-04-14T15:07:48.990998Z",
          "shell.execute_reply.started": "2024-04-14T15:07:48.98023Z",
          "shell.execute_reply": "2024-04-14T15:07:48.98969Z"
        },
        "trusted": true,
        "id": "m4Nvo7doZPwg"
      },
      "execution_count": null,
      "outputs": []
    },
    {
      "cell_type": "markdown",
      "source": [
        "# Recommendation System"
      ],
      "metadata": {
        "id": "3j33M9d7ZPwi"
      }
    },
    {
      "cell_type": "code",
      "source": [
        "professions = [\n",
        "    \"Accountant\",\n",
        "    \"Artist\",\n",
        "    \"Banker\",\n",
        "    \"Business Owner\",\n",
        "    \"Construction Engineer\",\n",
        "    \"Designer\",\n",
        "    \"Doctor\",\n",
        "    \"Game Developer\",\n",
        "    \"Government Officer\",\n",
        "    \"Lawyer\",\n",
        "    \"Real Estate Developer\",\n",
        "    \"Scientist\",\n",
        "    \"Software Engineer\",\n",
        "    \"Stock Investor\",\n",
        "    \"Teacher\",\n",
        "    \"Unknown\",\n",
        "    \"Writer\"\n",
        "]"
      ],
      "metadata": {
        "execution": {
          "iopub.status.busy": "2024-04-14T15:07:48.992554Z",
          "iopub.execute_input": "2024-04-14T15:07:48.992936Z",
          "iopub.status.idle": "2024-04-14T15:07:48.998212Z",
          "shell.execute_reply.started": "2024-04-14T15:07:48.992908Z",
          "shell.execute_reply": "2024-04-14T15:07:48.997377Z"
        },
        "trusted": true,
        "id": "0JhcIh-zZPwj"
      },
      "execution_count": null,
      "outputs": []
    },
    {
      "cell_type": "code",
      "source": [
        "def recommendation(gender, part_time_job, absence_days, extracurricular_activities,\n",
        "       weekly_self_study_hour, math_score,history_score, physics_score, chemistry_score, biology_score,\n",
        "       english_score, geography_score, total_score, average_score):\n",
        "    gender_encoded = 1 if gender.lower() =='male' else 0\n",
        "    part_time_job_encoded = 1 if part_time_job else 0\n",
        "    extracurricular_activities_encoded = 1 if extracurricular_activities else 0\n",
        "\n",
        "    feature_array = np.array([[gender_encoded, part_time_job_encoded, absence_days, extracurricular_activities_encoded,\n",
        "                               weekly_self_study_hour, math_score, history_score, physics_score, chemistry_score,\n",
        "                               biology_score, english_score, geography_score, total_score, average_score]])\n",
        "\n",
        "    probabilities = model.predict_proba(feature_array)\n",
        "    top_classes_idx = np.argsort(-probabilities[0])[:5]\n",
        "    top_classes_names_probs = [(professions[idx], probabilities[0][idx]) for idx in top_classes_idx]\n",
        "    return top_classes_names_probs"
      ],
      "metadata": {
        "execution": {
          "iopub.status.busy": "2024-04-14T15:16:55.284722Z",
          "iopub.execute_input": "2024-04-14T15:16:55.285129Z",
          "iopub.status.idle": "2024-04-14T15:16:55.295057Z",
          "shell.execute_reply.started": "2024-04-14T15:16:55.2851Z",
          "shell.execute_reply": "2024-04-14T15:16:55.293424Z"
        },
        "trusted": true,
        "id": "YLyNt5aNZPwk"
      },
      "execution_count": null,
      "outputs": []
    },
    {
      "cell_type": "code",
      "source": [
        "gender = 'female'\n",
        "part_time_job = True\n",
        "absence_days = 2\n",
        "extracurricular_activities = False\n",
        "weekly_self_study_hour = 4\n",
        "math_score = 67\n",
        "history_score = 50\n",
        "physics_score = 67\n",
        "chemistry_score = 56\n",
        "biology_score = 40\n",
        "english_score = 80\n",
        "geography_score = 0\n",
        "total_score = 583\n",
        "average_score = 83.2456\n",
        "\n",
        "final_recommendation = recommendation(gender, part_time_job, absence_days, extracurricular_activities,\n",
        "                                      weekly_self_study_hour, math_score, history_score, physics_score,\n",
        "                                      chemistry_score, biology_score, english_score, geography_score,\n",
        "                                      total_score, average_score)\n",
        "\n",
        "# Print the top recommendations\n",
        "print(\"Top Recommendations\")\n",
        "print(\"-\" * 50)\n",
        "for name, prob in final_recommendation:\n",
        "    print(f\"{name} with probability {prob*100}\")"
      ],
      "metadata": {
        "execution": {
          "iopub.status.busy": "2024-04-14T15:17:48.911617Z",
          "iopub.execute_input": "2024-04-14T15:17:48.912017Z",
          "iopub.status.idle": "2024-04-14T15:17:48.922273Z",
          "shell.execute_reply.started": "2024-04-14T15:17:48.911988Z",
          "shell.execute_reply": "2024-04-14T15:17:48.921049Z"
        },
        "trusted": true,
        "id": "K32xGveQZPwn"
      },
      "execution_count": null,
      "outputs": []
    },
    {
      "cell_type": "code",
      "source": [],
      "metadata": {
        "id": "0_vWjURAZPwo"
      },
      "execution_count": null,
      "outputs": []
    }
  ]
}